{
  "nbformat": 4,
  "nbformat_minor": 0,
  "metadata": {
    "colab": {
      "name": "Variational bayesian Expectation Maximization.ipynb",
      "provenance": [],
      "collapsed_sections": []
    },
    "kernelspec": {
      "name": "python3",
      "display_name": "Python 3"
    },
    "accelerator": "GPU"
  },
  "cells": [
    {
      "cell_type": "markdown",
      "metadata": {
        "id": "SHGnMs0XCKt1"
      },
      "source": [
        "Variatinal EM"
      ]
    },
    {
      "cell_type": "code",
      "metadata": {
        "id": "FJe2qNH3HTSc"
      },
      "source": [
        "\n",
        "\n",
        "#EM\n",
        " \n",
        "def lamda(eita):\n",
        "    s=1/(1+np.exp(-eita))\n",
        "    lamda=(1/(2*eita))*(s-0.5)\n",
        "    return lamda\n",
        "\n",
        "\n",
        "def Estep(beta_old,sigma_old,Y,X,Z,epsilon):\n",
        "    N=Y.shape[0]\n",
        "    #L=X.shape[1]\n",
        "    K=Z.shape[1]\n",
        "    Sigma=(1/sigma_old)*(np.ones(K))\n",
        "    \n",
        "    for i in range(N):\n",
        "        Sigma=Sigma+2*lamda(np.sqrt(epsilon[i]))*Z[i,]#(np.outer(Z[i,],Z[i,]).diagonal())\n",
        "    \n",
        "    Sigma1=1/(Sigma)\n",
        "    mu=np.zeros(K)\n",
        "    for i in range(N):\n",
        "        mu=mu+Z[i,]-2*Y[i]*Z[i,]+4*lamda(np.sqrt(epsilon[i]))*(np.dot(X[i,],beta_old))*Z[i,]\n",
        "    p=-0.5*Sigma1*mu\n",
        "    list1=[p,Sigma1]\n",
        "    return list1\n",
        "\n",
        "def Mstep(beta_old,sigma_old,Y,X,Z,epsilon,p,Sigma):\n",
        "    epsilon_new=epsilon\n",
        "    N=Y.shape[0]\n",
        "    L=X.shape[1]\n",
        "    K=Z.shape[1]    \n",
        "    for i in range(N):\n",
        "        epsilon_new[i]=np.dot(Sigma,Z[i,])+(np.dot(p,Z[i,]))**2+2*(np.dot(X[i,],beta_old))*(np.dot(Z[i,],p))+(np.dot(X[i,],beta_old))**2\n",
        "    S=np.zeros((L,L))\n",
        "    M=np.zeros(L)\n",
        "    for i in range(N):\n",
        "        S=S+2*lamda(np.sqrt(epsilon_new[i]))*np.outer(X[i,],X[i,])\n",
        "        M=M+Y[i]*X[i,]-2*lamda(np.sqrt(epsilon_new[i]))*(np.dot(Z[i,],p))*X[i,]-0.5*X[i,]\n",
        "    beta_new=np.matmul(np.linalg.inv(S),M)\n",
        "    sigma_new=(np.dot(p,p)+np.sum(Sigma))/K\n",
        "    list2=[beta_new,sigma_new,epsilon_new]\n",
        "    return list2"
      ],
      "execution_count": 9,
      "outputs": []
    },
    {
      "cell_type": "markdown",
      "metadata": {
        "id": "HmBqIECjhrc7"
      },
      "source": [
        "PREDICTION"
      ]
    },
    {
      "cell_type": "code",
      "metadata": {
        "id": "3YgRg5s9YkyF"
      },
      "source": [
        "def prediction(x,beta,p,Sigma,z):#  pi\n",
        "    mu=np.dot(z,p)\n",
        "    sigma=np.dot(Sigma,z)# posterior mean and sigma of random effects\n",
        "    def w(u):#pi\n",
        "        b=1/(1+np.exp(-np.dot(x,beta)-u))\n",
        "        return b\n",
        "    W=np.zeros(2000)\n",
        "    for i in range(2000):\n",
        "        u=np.random.normal(mu, sigma, 1)# Monte carlo method\n",
        "        W[i]=w(u)\n",
        "    return np.mean(W)\n",
        "  \n",
        "\n",
        "    "
      ],
      "execution_count": 10,
      "outputs": []
    },
    {
      "cell_type": "code",
      "metadata": {
        "id": "3EElAjzxRDGV"
      },
      "source": [
        "def accuracy(X,Y,Z,beta_old,p,Sigma,t):\n",
        "  N=X.shape[0]\n",
        "  acc=0\n",
        "  Y_P=np.zeros(N)\n",
        "  for i in range(N):\n",
        "    if prediction(X[i,],beta_old,p,Sigma,Z[i,])>t:\n",
        "      Y_P[i]=1\n",
        "    if Y_P[i]==Y[i]:\n",
        "      acc=acc+1\n",
        "      \n",
        "  return acc/N"
      ],
      "execution_count": 12,
      "outputs": []
    },
    {
      "cell_type": "code",
      "metadata": {
        "id": "Fi-U-T75eWbe",
        "colab": {
          "base_uri": "https://localhost:8080/"
        },
        "outputId": "26b6dd64-a287-4118-9f34-dafb6c3fb29b"
      },
      "source": [
        ""
      ],
      "execution_count": 21,
      "outputs": [
        {
          "output_type": "execute_result",
          "data": {
            "text/plain": [
              "(678, 4)"
            ]
          },
          "metadata": {
            "tags": []
          },
          "execution_count": 21
        }
      ]
    },
    {
      "cell_type": "markdown",
      "metadata": {
        "id": "gOz-UKRHhwSB"
      },
      "source": [
        "PI"
      ]
    },
    {
      "cell_type": "code",
      "metadata": {
        "id": "Y0Pspqv-e0cl"
      },
      "source": [
        "pi=np.zeros(N)\n",
        "for i in range(N):\n",
        "  pi[i]= prediction(X[i,],beta_old,p,Sigma,Z[i,])\n",
        "   "
      ],
      "execution_count": null,
      "outputs": []
    },
    {
      "cell_type": "code",
      "metadata": {
        "id": "CpbREDY6fGKc",
        "colab": {
          "base_uri": "https://localhost:8080/",
          "height": 34
        },
        "outputId": "50db361e-3667-4e87-e0b2-fd89486990ac"
      },
      "source": [
        "np.mean((pi-pi_i)*(pi-pi_i))"
      ],
      "execution_count": null,
      "outputs": [
        {
          "output_type": "execute_result",
          "data": {
            "text/plain": [
              "0.005848347434545445"
            ]
          },
          "metadata": {
            "tags": []
          },
          "execution_count": 46
        }
      ]
    },
    {
      "cell_type": "code",
      "metadata": {
        "id": "ul_w-Sf8kc9g",
        "colab": {
          "base_uri": "https://localhost:8080/",
          "height": 51
        },
        "outputId": "d43b8b8b-c561-499a-f43f-1eea4e3e8beb"
      },
      "source": [
        "pi_i"
      ],
      "execution_count": null,
      "outputs": [
        {
          "output_type": "execute_result",
          "data": {
            "text/plain": [
              "array([0.94227386, 0.92987622, 0.73331276, ..., 0.72094401, 0.17530028,\n",
              "       0.60943317])"
            ]
          },
          "metadata": {
            "tags": []
          },
          "execution_count": 47
        }
      ]
    },
    {
      "cell_type": "code",
      "metadata": {
        "id": "RvZwxycr50VW"
      },
      "source": [
        "import io\n",
        "\n",
        "import numpy as np\n",
        "import pandas as pd\n",
        "from sklearn import preprocessing\n",
        "#X_train\n",
        "from random import sample "
      ],
      "execution_count": 2,
      "outputs": []
    },
    {
      "cell_type": "code",
      "metadata": {
        "id": "DcQ2PBBy54Yp",
        "colab": {
          "base_uri": "https://localhost:8080/"
        },
        "outputId": "bc814ec2-c208-437d-c040-47750efac977"
      },
      "source": [
        "y_feature_train =  pd.read_csv('xlabel.csv')\n",
        "print(y_feature_train.shape)\n",
        "folder=pd.get_dummies(y_feature_train.iloc[:,1])\n",
        "folder=np.array(folder)\n",
        "print(folder.shape)\n",
        "\n",
        "y_feature_train=np.array(y_feature_train)\n",
        "#y_feature_train1 =  pd.read_csv('xtlabel.csv')\n",
        "#print(y_feature_train1.shape)\n",
        "\n",
        "#y_feature_train=np.concatenate((y_feature_train,y_feature_train1),axis=0)\n",
        "label=y_feature_train[:,19]#label : 1 denotes  high blood\n",
        "label=label.astype(np.float32)\n",
        "\n"
      ],
      "execution_count": 3,
      "outputs": [
        {
          "output_type": "stream",
          "text": [
            "(4009, 20)\n",
            "(4009, 339)\n"
          ],
          "name": "stdout"
        }
      ]
    },
    {
      "cell_type": "code",
      "metadata": {
        "id": "MAfStnolQKr8"
      },
      "source": [
        "n = range(label.shape[0])\n",
        "l=[]\n",
        "for i in range(folder.shape[-1]):\n",
        "    \n",
        "    s=np.array(n)[(folder[:,i])>0]\n",
        "    S=sample(list(s),2)\n",
        "    l.append(S)\n",
        "\n"
      ],
      "execution_count": 5,
      "outputs": []
    },
    {
      "cell_type": "code",
      "metadata": {
        "id": "11mRosjEQPJW",
        "colab": {
          "base_uri": "https://localhost:8080/"
        },
        "outputId": "479d0bcf-a39a-4c10-ed1c-ab7c3a4d2126"
      },
      "source": [
        "l=np.array(l).reshape(2*len(l),)   \n",
        "l#test sample\n",
        "left=np.setdiff1d(n, l)#train number\n",
        "labeltrain=label[left,]\n",
        "labeltest=label[l,]\n",
        "#folder=y_feature_train[:,1]\n",
        "#folder=pd.get_dummies(folder)\n",
        "folder.shape"
      ],
      "execution_count": 6,
      "outputs": [
        {
          "output_type": "execute_result",
          "data": {
            "text/plain": [
              "(4009, 339)"
            ]
          },
          "metadata": {
            "tags": []
          },
          "execution_count": 6
        }
      ]
    },
    {
      "cell_type": "code",
      "metadata": {
        "id": "HYUUFrB15uFc",
        "colab": {
          "base_uri": "https://localhost:8080/"
        },
        "outputId": "38639756-7171-4bf7-ef89-4efd711f06f8"
      },
      "source": [
        "#folder=np.array(folder)\n",
        "foldertrain=folder[left,]\n",
        "foldertest=folder[l,]\n",
        "gender=pd.get_dummies(y_feature_train[:,12])\n",
        "position=pd.get_dummies(y_feature_train[:,11])\n",
        "#drug=pd.get_dummies(y_feature_train[:,16])\n",
        "#cali=pd.get_dummies(y_feature_train[:,18])\n",
        "a=[13,14,15]\n",
        "#feature3=y_feature_train[:, a]# delete idx\n",
        "#frames=[feature3,folder,drug,cali,gender,position]\n",
        "#frames=[feature3,position]\n",
        "#feature=np.concatenate(frames,axis=1)\n",
        "#idn=np.array(y_feature_train.iloc[:,0])\n",
        "#feature=np.array(feature).astype(float)\n",
        "#feature[:,0:3]=preprocessing.scale(feature[:,0:3])\n",
        "feature3=y_feature_train[:, a]\n",
        "feature=preprocessing.scale(feature3)\n",
        "#feature[0,]\n",
        "print(feature.shape)\n",
        "featuretrain=feature[left,]\n",
        "\n",
        "featuretest=feature[l,]"
      ],
      "execution_count": 7,
      "outputs": [
        {
          "output_type": "stream",
          "text": [
            "(4009, 3)\n"
          ],
          "name": "stdout"
        }
      ]
    },
    {
      "cell_type": "code",
      "metadata": {
        "id": "2UhA-d2NVh-d",
        "colab": {
          "base_uri": "https://localhost:8080/",
          "height": 136
        },
        "outputId": "f5dc13b2-4279-4f34-83a6-a68abd3f6836"
      },
      "source": [
        "feature3"
      ],
      "execution_count": null,
      "outputs": [
        {
          "output_type": "execute_result",
          "data": {
            "text/plain": [
              "array([[64, 69.0, 165],\n",
              "       [64, 69.0, 165],\n",
              "       [64, 69.0, 165],\n",
              "       ...,\n",
              "       [65, 70.0, 166],\n",
              "       [65, 70.0, 166],\n",
              "       [65, 70.0, 166]], dtype=object)"
            ]
          },
          "metadata": {
            "tags": []
          },
          "execution_count": 166
        }
      ]
    },
    {
      "cell_type": "code",
      "metadata": {
        "id": "TssTqvxg7ITT"
      },
      "source": [
        "X_train=featuretrain\n",
        "X_test=featuretest\n",
        "y_train=labeltrain\n",
        "y_test=labeltest.astype(float)\n",
        "z_train=foldertrain\n",
        "z_test=foldertest.astype(float)"
      ],
      "execution_count": 8,
      "outputs": []
    },
    {
      "cell_type": "code",
      "metadata": {
        "id": "KWTM50hR86KT"
      },
      "source": [
        "from sklearn.linear_model import LogisticRegression\n",
        "logmodel = LogisticRegression(random_state=0, solver='lbfgs')\n",
        "a=logmodel.fit(X_train,y_train)\n",
        "\n",
        "beta_old=np.append(logmodel.intercept_,logmodel.coef_)#.reshape(X_train.shape[1]+1,)\n"
      ],
      "execution_count": 13,
      "outputs": []
    },
    {
      "cell_type": "code",
      "metadata": {
        "id": "6qEJNdVI_71t"
      },
      "source": [
        "X=np.concatenate((np.ones((X_train.shape[0],1)),X_train),axis=1).astype(float)\n",
        "X[0,]\n",
        "beta_old=np.random.random(X.shape[1])"
      ],
      "execution_count": 14,
      "outputs": []
    },
    {
      "cell_type": "code",
      "metadata": {
        "id": "Aot445B8BK1L",
        "colab": {
          "base_uri": "https://localhost:8080/"
        },
        "outputId": "7a27eeae-dc23-4e80-c50a-fceeefa2b12a"
      },
      "source": [
        "Y=y_train\n",
        "Z=z_train.astype(float)\n",
        "Z"
      ],
      "execution_count": 15,
      "outputs": [
        {
          "output_type": "execute_result",
          "data": {
            "text/plain": [
              "array([[0., 0., 0., ..., 0., 0., 0.],\n",
              "       [0., 0., 0., ..., 0., 0., 0.],\n",
              "       [0., 0., 0., ..., 0., 0., 0.],\n",
              "       ...,\n",
              "       [0., 0., 0., ..., 0., 0., 0.],\n",
              "       [0., 0., 0., ..., 0., 0., 0.],\n",
              "       [0., 0., 0., ..., 0., 0., 0.]])"
            ]
          },
          "metadata": {
            "tags": []
          },
          "execution_count": 15
        }
      ]
    },
    {
      "cell_type": "code",
      "metadata": {
        "id": "UO1I9X9dBXGV"
      },
      "source": [
        "sigma_old=1\n",
        "N=X.shape[0]\n",
        "epsilon=np.zeros(N)\n",
        "for i in range(N):\n",
        "    epsilon[i]=sigma_old*np.dot(Z[i,],Z[i,])+(np.dot(X[i,],beta_old))**2"
      ],
      "execution_count": 16,
      "outputs": []
    },
    {
      "cell_type": "code",
      "metadata": {
        "id": "57DU6GMzByZO",
        "colab": {
          "base_uri": "https://localhost:8080/"
        },
        "outputId": "d5267ad9-7751-4dd2-99a3-d6cb782a845b"
      },
      "source": [
        "K=Z.shape[1] \n",
        "epochs=200\n",
        "g=-100000000\n",
        "for e in range(epochs):\n",
        "    p,Sigma=Estep(beta_old,sigma_old,Y,X,Z,epsilon)\n",
        "    beta_old,sigma_old,epsilon=Mstep(beta_old,sigma_old,Y,X,Z,epsilon,p,Sigma)\n",
        "    g_old=g\n",
        "    g=-0.5*K*np.log(sigma_old)+0.5*np.sum(np.log(Sigma))#lower bound\n",
        "    for i in range(N):\n",
        "        g=g+Y[i]*(np.dot(Z[i,],p)+np.dot(X[i,],beta_old))-lamda(np.sqrt(epsilon[i]))*(np.dot(Sigma,Z[i,])+(np.dot(p,Z[i,]))**2+2*(np.dot(X[i,],beta_old))*(np.dot(Z[i,],p))+(np.dot(X[i,],beta_old))**2-epsilon[i])-0.5*(np.dot(Z[i,],p))-0.5*(np.dot(X[i,],beta_old))-0.5*np.sqrt(epsilon[i])+np.log(1/(1+np.exp(-np.sqrt(epsilon[i]))))\n",
        "    #if g。g_\n",
        "    if abs(g-g_old)<0.001:\n",
        "      break\n",
        "    \n",
        "    print(g)"
      ],
      "execution_count": 17,
      "outputs": [
        {
          "output_type": "stream",
          "text": [
            "-1620.0997337678211\n",
            "-1536.795159978033\n",
            "-1507.2850861249042\n",
            "-1492.8982173160632\n",
            "-1484.7152061108786\n",
            "-1479.5736230960401\n",
            "-1476.1101629997236\n",
            "-1473.65665914319\n",
            "-1471.853126939309\n",
            "-1470.4905909905299\n",
            "-1469.4400601124285\n",
            "-1468.6176951700747\n",
            "-1467.966568949618\n",
            "-1467.4465777113464\n",
            "-1467.0285906184572\n",
            "-1466.6909096488498\n",
            "-1466.4170423543096\n",
            "-1466.194248901772\n",
            "-1466.0125618525155\n",
            "-1465.8641042386694\n",
            "-1465.742601921213\n",
            "-1465.6430263765487\n",
            "-1465.5613275846063\n",
            "-1465.4942308219536\n",
            "-1465.4390798648033\n",
            "-1465.393714601868\n",
            "-1465.3563746140758\n",
            "-1465.325622642642\n",
            "-1465.3002834761849\n",
            "-1465.2793949124994\n",
            "-1465.2621682517192\n",
            "-1465.2479563641832\n",
            "-1465.2362278093758\n",
            "-1465.2265458106804\n",
            "-1465.2185511412313\n",
            "-1465.2119481686734\n",
            "-1465.2064934592415\n",
            "-1465.2019864588165\n",
            "-1465.1982618642328\n",
            "-1465.1951833704331\n",
            "-1465.1926385414513\n",
            "-1465.1905345993089\n",
            "-1465.1887949635964\n",
            "-1465.1873564062557\n",
            "-1465.1861667106323\n"
          ],
          "name": "stdout"
        }
      ]
    },
    {
      "cell_type": "code",
      "metadata": {
        "id": "gr7NztdqIlck",
        "colab": {
          "base_uri": "https://localhost:8080/"
        },
        "outputId": "e1492c19-8c8c-4422-b5d5-67d1e4333384"
      },
      "source": [
        "accuracy(X,Y,Z,beta_old,p,Sigma,0.5)"
      ],
      "execution_count": 19,
      "outputs": [
        {
          "output_type": "execute_result",
          "data": {
            "text/plain": [
              "0.8420894626238367"
            ]
          },
          "metadata": {
            "tags": []
          },
          "execution_count": 19
        }
      ]
    },
    {
      "cell_type": "code",
      "metadata": {
        "id": "_KMZl6ENpAwS"
      },
      "source": [
        "#TEST\n",
        "X=np.concatenate((np.ones((X_test.shape[0],1)),X_test),axis=1).astype(float)\n",
        "X.shape\n",
        "Y=y_test\n",
        "Z=z_test\n",
        "h_test_list=[]# POSITIVE ACCUARACY\n",
        "n_test_list=[]#NEGTIVE ACCURACY\n",
        "\n",
        "for i in range(20):\n",
        "    T=0.05*i\n",
        "    acp=accuracy(X[Y==0],Y[Y==0],Z[Y==0],beta_old,p,Sigma,T)\n",
        "    acn=accuracy(X[Y==1],Y[Y==1],Z[Y==1],beta_old,p,Sigma,T)\n",
        "    h_test_list.append(acp)\n",
        "    n_test_list.append(acn)\n",
        "\n",
        "#X.shape,y_test.shape,z_test.shape"
      ],
      "execution_count": 27,
      "outputs": []
    },
    {
      "cell_type": "markdown",
      "metadata": {
        "id": "TQjSJnVHK29-"
      },
      "source": [
        "#ROC curve"
      ]
    },
    {
      "cell_type": "code",
      "metadata": {
        "colab": {
          "base_uri": "https://localhost:8080/",
          "height": 284
        },
        "id": "Ahnstoy345Mt",
        "outputId": "d9ed5e67-5e68-492c-c5f9-f15d8611b967"
      },
      "source": [
        "import matplotlib.pyplot as plt\n",
        "plt.figure()\n",
        "plt.xlim((0, 1))\n",
        "\n",
        "plt.ylim((0, 1))\n",
        "plt.plot(n_test_list,  h_test_list)                    \n",
        "plt.scatter(h_test_list, n_test_list, marker='x')\n",
        "plt.ylabel('posive_acc')\n",
        "plt.xlabel('negtive_acc')\n",
        "\n",
        "plt.show()"
      ],
      "execution_count": 28,
      "outputs": [
        {
          "output_type": "display_data",
          "data": {
            "image/png": "[encoded data removed]",
            "text/plain": [
              "<Figure size 432x288 with 1 Axes>"
            ]
          },
          "metadata": {
            "tags": [],
            "needs_background": "light"
          }
        }
      ]
    }
  ]
}