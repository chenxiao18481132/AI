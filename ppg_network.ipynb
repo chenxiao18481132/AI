{
  "nbformat": 4,
  "nbformat_minor": 0,
  "metadata": {
    "colab": {
      "name": "ppg  network.ipynb",
      "provenance": [],
      "collapsed_sections": []
    },
    "kernelspec": {
      "name": "python3",
      "display_name": "Python 3"
    },
    "accelerator": "GPU"
  },
  "cells": [
    {
      "cell_type": "code",
      "metadata": {
        "id": "Vb_05yw7kG6R",
        "colab": {
          "base_uri": "https://localhost:8080/",
          "height": 88
        },
        "outputId": "f01dc148-c166-44a9-fb6d-74f829730bae"
      },
      "source": [
        "import io\n",
        "import matplotlib.pyplot as plt\n",
        "import numpy as np\n",
        "import pandas as pd\n",
        "from sklearn import preprocessing\n",
        "#X_train\n",
        "from sklearn.model_selection import train_test_split\n",
        "# prepocessing data\n",
        "yy=pd.read_csv('ydata.csv')\n",
        "x=pd.read_csv('xdata.csv')\n",
        "x=x.iloc[:,1:]\n",
        "x = preprocessing.scale(x)\n",
        "label=yy.iloc[:,3]\n",
        "label=np.array(label)\n",
        "label\n",
        "label=label.reshape(label.shape[0],1)\n",
        "print(label.shape)"
      ],
      "execution_count": null,
      "outputs": [
        {
          "output_type": "stream",
          "text": [
            "(10113, 1)\n"
          ],
          "name": "stdout"
        },
        {
          "output_type": "stream",
          "text": [
            "/usr/local/lib/python3.6/dist-packages/ipykernel_launcher.py:12: DataConversionWarning: Data with input dtype int64, float64 were all converted to float64 by the scale function.\n",
            "  if sys.path[0] == '':\n"
          ],
          "name": "stderr"
        }
      ]
    },
    {
      "cell_type": "code",
      "metadata": {
        "id": "mP2kc0phlYYV"
      },
      "source": [
        "X_tr, X_vld, lab_tr, lab_vld = train_test_split(x, label, \n",
        "                                                 random_state = 123)"
      ],
      "execution_count": null,
      "outputs": []
    },
    {
      "cell_type": "code",
      "metadata": {
        "id": "bDzsdK7Tl81o"
      },
      "source": [
        "import tensorflow as tf\n",
        "lr=0.001#learning rate\n",
        "epochs=6000\n",
        "w=4 # parameter for weighted loss\n",
        "inputs_ = tf.placeholder(tf.float32, [None,47])     # input x\n",
        "labels_ = tf.placeholder(tf.float32, [None,1])     # input y\n",
        "\n",
        "# neural network layers\n",
        "l1 = tf.layers.dense(inputs_, 16, tf.nn.relu)#25,10 ->249.14749\n",
        "l2 = tf.layers.dense(l1, 8, tf.nn.relu)\n",
        "logits=tf.layers.dense(l2,1)"
      ],
      "execution_count": null,
      "outputs": []
    },
    {
      "cell_type": "code",
      "metadata": {
        "id": "wXzAjD7UoT8d"
      },
      "source": [
        "prediction=tf.nn.sigmoid(logits)\n",
        "\n",
        "\n",
        "cost = tf.reduce_mean(tf.nn.weighted_cross_entropy_with_logits(targets=labels_,logits=logits,pos_weight=w))#4 classes\n",
        "global_step = tf.Variable(0)\n",
        "\n",
        "learning_rate = tf.train.exponential_decay(lr, global_step, 50, 0.96, staircase=True) \n",
        "optimizer = tf.train.AdamOptimizer(learning_rate).minimize(cost,global_step=global_step)\n",
        "\n",
        "# Calculate the correct predictions\n",
        "correct_prediction = tf.to_float(tf.greater(prediction, 0.5))\n",
        "accuracy = tf.reduce_mean(tf.to_float(tf.equal(labels_, correct_prediction)))"
      ],
      "execution_count": null,
      "outputs": []
    },
    {
      "cell_type": "code",
      "metadata": {
        "id": "7Vu4vXgBMlop"
      },
      "source": [
        ""
      ],
      "execution_count": null,
      "outputs": []
    },
    {
      "cell_type": "code",
      "metadata": {
        "id": "U2xFqjoeo4SV"
      },
      "source": [
        "#  accuaracy of positive examples and negtive examples\n",
        "accc=tf.equal(labels_, correct_prediction)\n",
        "N1=tf.reduce_sum(labels_)\n",
        "N=tf.reduce_sum(tf.ones_like(labels_))\n",
        "N0=N-N1\n",
        "mask_1=tf.equal(labels_,tf.ones_like(labels_))\n",
        "accp=tf.reduce_mean(tf.to_float(tf.boolean_mask(accc, mask_1)))\n",
        "mask_0=tf.equal(labels_,tf.zeros_like(labels_))\n",
        "accn=tf.reduce_mean(tf.to_float(tf.boolean_mask(accc, mask_0)))"
      ],
      "execution_count": null,
      "outputs": []
    },
    {
      "cell_type": "code",
      "metadata": {
        "id": "674IEpLao-Mu",
        "colab": {
          "base_uri": "https://localhost:8080/",
          "height": 2057
        },
        "outputId": "5871232a-280f-4d84-b388-0f3a818ae542"
      },
      "source": [
        "with tf.Session() as sess:\n",
        "    sess.run(tf.global_variables_initializer())\n",
        "    \n",
        "   \n",
        "    # Loop over epochs\n",
        "    for e in range(epochs):\n",
        "\n",
        "            train,_,_,_=sess.run([accuracy, optimizer,learning_rate,global_step], feed_dict={inputs_ :  X_tr, labels_: lab_tr})\n",
        "                \n",
        "            #, feature_:featuretrain\n",
        "            # Print at each 5 iters\n",
        "            if (e % 50 == 0):\n",
        "                \n",
        "                #acc=sess.run(accuracy, feed_dict={inputs_ : X_train, labels_: label, feature_: feature, tf_is_training: False})\n",
        "                acp,acn,acctest=sess.run([accp,accn,accuracy], feed_dict={inputs_ : X_vld, labels_: lab_vld})\n",
        "                print(\"Epoch: {}/{}\".format(e, epochs),\n",
        "                      \"Train loss: {:6f}\".format(train),\n",
        "                      \"Test acc: {:.6f}\".format(acctest),\n",
        "                      \"Test accp: {:.6f}\".format(acp),\n",
        "                      \"Test accn: {:.6f}\".format(acn))"
      ],
      "execution_count": null,
      "outputs": [
        {
          "output_type": "stream",
          "text": [
            "Epoch: 0/6000 Train loss: 0.417194 Test acc: 0.412021 Test accp: 0.552000 Test accn: 0.366071\n",
            "Epoch: 50/6000 Train loss: 0.607068 Test acc: 0.607750 Test accp: 0.811200 Test accn: 0.540966\n",
            "Epoch: 100/6000 Train loss: 0.662975 Test acc: 0.675761 Test accp: 0.808000 Test accn: 0.632353\n",
            "Epoch: 150/6000 Train loss: 0.688555 Test acc: 0.693159 Test accp: 0.800000 Test accn: 0.658088\n",
            "Epoch: 200/6000 Train loss: 0.701609 Test acc: 0.705022 Test accp: 0.800000 Test accn: 0.673845\n",
            "Epoch: 250/6000 Train loss: 0.707410 Test acc: 0.705813 Test accp: 0.792000 Test accn: 0.677521\n",
            "Epoch: 300/6000 Train loss: 0.715058 Test acc: 0.711348 Test accp: 0.793600 Test accn: 0.684349\n",
            "Epoch: 350/6000 Train loss: 0.719541 Test acc: 0.715302 Test accp: 0.795200 Test accn: 0.689076\n",
            "Epoch: 400/6000 Train loss: 0.723761 Test acc: 0.717675 Test accp: 0.796800 Test accn: 0.691702\n",
            "Epoch: 450/6000 Train loss: 0.724420 Test acc: 0.723211 Test accp: 0.796800 Test accn: 0.699055\n",
            "Epoch: 500/6000 Train loss: 0.725475 Test acc: 0.728747 Test accp: 0.800000 Test accn: 0.705357\n",
            "Epoch: 550/6000 Train loss: 0.728903 Test acc: 0.733887 Test accp: 0.804800 Test accn: 0.710609\n",
            "Epoch: 600/6000 Train loss: 0.731936 Test acc: 0.734678 Test accp: 0.801600 Test accn: 0.712710\n",
            "Epoch: 650/6000 Train loss: 0.734045 Test acc: 0.735469 Test accp: 0.803200 Test accn: 0.713235\n",
            "Epoch: 700/6000 Train loss: 0.734705 Test acc: 0.735469 Test accp: 0.804800 Test accn: 0.712710\n",
            "Epoch: 750/6000 Train loss: 0.737869 Test acc: 0.738632 Test accp: 0.809600 Test accn: 0.715336\n",
            "Epoch: 800/6000 Train loss: 0.740374 Test acc: 0.742586 Test accp: 0.811200 Test accn: 0.720063\n",
            "Epoch: 850/6000 Train loss: 0.740902 Test acc: 0.744958 Test accp: 0.811200 Test accn: 0.723214\n",
            "Epoch: 900/6000 Train loss: 0.742484 Test acc: 0.744958 Test accp: 0.806400 Test accn: 0.724790\n",
            "Epoch: 950/6000 Train loss: 0.743671 Test acc: 0.745354 Test accp: 0.798400 Test accn: 0.727941\n",
            "Epoch: 1000/6000 Train loss: 0.745253 Test acc: 0.746936 Test accp: 0.795200 Test accn: 0.731092\n",
            "Epoch: 1050/6000 Train loss: 0.745121 Test acc: 0.747331 Test accp: 0.793600 Test accn: 0.732143\n",
            "Epoch: 1100/6000 Train loss: 0.747890 Test acc: 0.748517 Test accp: 0.793600 Test accn: 0.733719\n",
            "Epoch: 1150/6000 Train loss: 0.749077 Test acc: 0.749703 Test accp: 0.795200 Test accn: 0.734769\n",
            "Epoch: 1200/6000 Train loss: 0.750264 Test acc: 0.750890 Test accp: 0.798400 Test accn: 0.735294\n",
            "Epoch: 1250/6000 Train loss: 0.750923 Test acc: 0.754053 Test accp: 0.798400 Test accn: 0.739496\n",
            "Epoch: 1300/6000 Train loss: 0.751714 Test acc: 0.754844 Test accp: 0.798400 Test accn: 0.740546\n",
            "Epoch: 1350/6000 Train loss: 0.752505 Test acc: 0.753262 Test accp: 0.796800 Test accn: 0.738971\n",
            "Epoch: 1400/6000 Train loss: 0.753692 Test acc: 0.754053 Test accp: 0.796800 Test accn: 0.740021\n",
            "Epoch: 1450/6000 Train loss: 0.754088 Test acc: 0.754053 Test accp: 0.795200 Test accn: 0.740546\n",
            "Epoch: 1500/6000 Train loss: 0.755011 Test acc: 0.756425 Test accp: 0.798400 Test accn: 0.742647\n",
            "Epoch: 1550/6000 Train loss: 0.755406 Test acc: 0.757612 Test accp: 0.798400 Test accn: 0.744223\n",
            "Epoch: 1600/6000 Train loss: 0.755934 Test acc: 0.758798 Test accp: 0.798400 Test accn: 0.745798\n",
            "Epoch: 1650/6000 Train loss: 0.755406 Test acc: 0.757612 Test accp: 0.796800 Test accn: 0.744748\n",
            "Epoch: 1700/6000 Train loss: 0.756197 Test acc: 0.758007 Test accp: 0.796800 Test accn: 0.745273\n",
            "Epoch: 1750/6000 Train loss: 0.756065 Test acc: 0.760380 Test accp: 0.798400 Test accn: 0.747899\n",
            "Epoch: 1800/6000 Train loss: 0.756329 Test acc: 0.760775 Test accp: 0.798400 Test accn: 0.748424\n",
            "Epoch: 1850/6000 Train loss: 0.756197 Test acc: 0.760775 Test accp: 0.800000 Test accn: 0.747899\n",
            "Epoch: 1900/6000 Train loss: 0.756461 Test acc: 0.759589 Test accp: 0.796800 Test accn: 0.747374\n",
            "Epoch: 1950/6000 Train loss: 0.758439 Test acc: 0.758798 Test accp: 0.793600 Test accn: 0.747374\n",
            "Epoch: 2000/6000 Train loss: 0.757911 Test acc: 0.758798 Test accp: 0.792000 Test accn: 0.747899\n",
            "Epoch: 2050/6000 Train loss: 0.758703 Test acc: 0.758007 Test accp: 0.792000 Test accn: 0.746849\n",
            "Epoch: 2100/6000 Train loss: 0.758703 Test acc: 0.756821 Test accp: 0.792000 Test accn: 0.745273\n",
            "Epoch: 2150/6000 Train loss: 0.759626 Test acc: 0.759193 Test accp: 0.796800 Test accn: 0.746849\n",
            "Epoch: 2200/6000 Train loss: 0.759889 Test acc: 0.760380 Test accp: 0.798400 Test accn: 0.747899\n",
            "Epoch: 2250/6000 Train loss: 0.759230 Test acc: 0.760775 Test accp: 0.801600 Test accn: 0.747374\n",
            "Epoch: 2300/6000 Train loss: 0.759230 Test acc: 0.759589 Test accp: 0.801600 Test accn: 0.745798\n",
            "Epoch: 2350/6000 Train loss: 0.760285 Test acc: 0.758403 Test accp: 0.800000 Test accn: 0.744748\n",
            "Epoch: 2400/6000 Train loss: 0.758571 Test acc: 0.758403 Test accp: 0.800000 Test accn: 0.744748\n",
            "Epoch: 2450/6000 Train loss: 0.757911 Test acc: 0.759984 Test accp: 0.801600 Test accn: 0.746324\n",
            "Epoch: 2500/6000 Train loss: 0.758703 Test acc: 0.760380 Test accp: 0.801600 Test accn: 0.746849\n",
            "Epoch: 2550/6000 Train loss: 0.760944 Test acc: 0.761170 Test accp: 0.801600 Test accn: 0.747899\n",
            "Epoch: 2600/6000 Train loss: 0.761208 Test acc: 0.761170 Test accp: 0.803200 Test accn: 0.747374\n",
            "Epoch: 2650/6000 Train loss: 0.761603 Test acc: 0.761961 Test accp: 0.803200 Test accn: 0.748424\n",
            "Epoch: 2700/6000 Train loss: 0.761603 Test acc: 0.761961 Test accp: 0.803200 Test accn: 0.748424\n",
            "Epoch: 2750/6000 Train loss: 0.761735 Test acc: 0.761961 Test accp: 0.803200 Test accn: 0.748424\n",
            "Epoch: 2800/6000 Train loss: 0.762658 Test acc: 0.761170 Test accp: 0.803200 Test accn: 0.747374\n",
            "Epoch: 2850/6000 Train loss: 0.762922 Test acc: 0.759193 Test accp: 0.801600 Test accn: 0.745273\n",
            "Epoch: 2900/6000 Train loss: 0.763318 Test acc: 0.759589 Test accp: 0.803200 Test accn: 0.745273\n",
            "Epoch: 2950/6000 Train loss: 0.763713 Test acc: 0.759984 Test accp: 0.804800 Test accn: 0.745273\n",
            "Epoch: 3000/6000 Train loss: 0.764109 Test acc: 0.759589 Test accp: 0.804800 Test accn: 0.744748\n",
            "Epoch: 3050/6000 Train loss: 0.763845 Test acc: 0.760775 Test accp: 0.804800 Test accn: 0.746324\n",
            "Epoch: 3100/6000 Train loss: 0.764241 Test acc: 0.759984 Test accp: 0.803200 Test accn: 0.745798\n",
            "Epoch: 3150/6000 Train loss: 0.763449 Test acc: 0.760380 Test accp: 0.806400 Test accn: 0.745273\n",
            "Epoch: 3200/6000 Train loss: 0.763186 Test acc: 0.761170 Test accp: 0.808000 Test accn: 0.745798\n",
            "Epoch: 3250/6000 Train loss: 0.763581 Test acc: 0.761170 Test accp: 0.808000 Test accn: 0.745798\n",
            "Epoch: 3300/6000 Train loss: 0.763713 Test acc: 0.761566 Test accp: 0.808000 Test accn: 0.746324\n",
            "Epoch: 3350/6000 Train loss: 0.763318 Test acc: 0.761566 Test accp: 0.808000 Test accn: 0.746324\n",
            "Epoch: 3400/6000 Train loss: 0.763186 Test acc: 0.761170 Test accp: 0.808000 Test accn: 0.745798\n",
            "Epoch: 3450/6000 Train loss: 0.763318 Test acc: 0.760775 Test accp: 0.806400 Test accn: 0.745798\n",
            "Epoch: 3500/6000 Train loss: 0.763318 Test acc: 0.761566 Test accp: 0.808000 Test accn: 0.746324\n",
            "Epoch: 3550/6000 Train loss: 0.763581 Test acc: 0.761566 Test accp: 0.806400 Test accn: 0.746849\n",
            "Epoch: 3600/6000 Train loss: 0.763449 Test acc: 0.761566 Test accp: 0.804800 Test accn: 0.747374\n",
            "Epoch: 3650/6000 Train loss: 0.763318 Test acc: 0.761170 Test accp: 0.803200 Test accn: 0.747374\n",
            "Epoch: 3700/6000 Train loss: 0.763318 Test acc: 0.761170 Test accp: 0.803200 Test accn: 0.747374\n",
            "Epoch: 3750/6000 Train loss: 0.763713 Test acc: 0.761170 Test accp: 0.803200 Test accn: 0.747374\n",
            "Epoch: 3800/6000 Train loss: 0.763581 Test acc: 0.761170 Test accp: 0.803200 Test accn: 0.747374\n",
            "Epoch: 3850/6000 Train loss: 0.764109 Test acc: 0.761170 Test accp: 0.803200 Test accn: 0.747374\n",
            "Epoch: 3900/6000 Train loss: 0.764109 Test acc: 0.760775 Test accp: 0.801600 Test accn: 0.747374\n",
            "Epoch: 3950/6000 Train loss: 0.763977 Test acc: 0.761170 Test accp: 0.801600 Test accn: 0.747899\n",
            "Epoch: 4000/6000 Train loss: 0.764372 Test acc: 0.761170 Test accp: 0.801600 Test accn: 0.747899\n",
            "Epoch: 4050/6000 Train loss: 0.764109 Test acc: 0.761170 Test accp: 0.801600 Test accn: 0.747899\n",
            "Epoch: 4100/6000 Train loss: 0.764372 Test acc: 0.760775 Test accp: 0.800000 Test accn: 0.747899\n",
            "Epoch: 4150/6000 Train loss: 0.764372 Test acc: 0.760380 Test accp: 0.798400 Test accn: 0.747899\n",
            "Epoch: 4200/6000 Train loss: 0.764372 Test acc: 0.761961 Test accp: 0.803200 Test accn: 0.748424\n",
            "Epoch: 4250/6000 Train loss: 0.764372 Test acc: 0.761961 Test accp: 0.803200 Test accn: 0.748424\n",
            "Epoch: 4300/6000 Train loss: 0.764372 Test acc: 0.761170 Test accp: 0.803200 Test accn: 0.747374\n",
            "Epoch: 4350/6000 Train loss: 0.764241 Test acc: 0.761170 Test accp: 0.803200 Test accn: 0.747374\n",
            "Epoch: 4400/6000 Train loss: 0.764109 Test acc: 0.761170 Test accp: 0.803200 Test accn: 0.747374\n",
            "Epoch: 4450/6000 Train loss: 0.764504 Test acc: 0.761566 Test accp: 0.803200 Test accn: 0.747899\n",
            "Epoch: 4500/6000 Train loss: 0.764636 Test acc: 0.761566 Test accp: 0.804800 Test accn: 0.747374\n",
            "Epoch: 4550/6000 Train loss: 0.764768 Test acc: 0.761566 Test accp: 0.804800 Test accn: 0.747374\n",
            "Epoch: 4600/6000 Train loss: 0.765032 Test acc: 0.761566 Test accp: 0.804800 Test accn: 0.747374\n",
            "Epoch: 4650/6000 Train loss: 0.765032 Test acc: 0.760775 Test accp: 0.803200 Test accn: 0.746849\n",
            "Epoch: 4700/6000 Train loss: 0.764768 Test acc: 0.760775 Test accp: 0.803200 Test accn: 0.746849\n",
            "Epoch: 4750/6000 Train loss: 0.765032 Test acc: 0.760775 Test accp: 0.803200 Test accn: 0.746849\n",
            "Epoch: 4800/6000 Train loss: 0.764636 Test acc: 0.760775 Test accp: 0.803200 Test accn: 0.746849\n",
            "Epoch: 4850/6000 Train loss: 0.764636 Test acc: 0.760775 Test accp: 0.803200 Test accn: 0.746849\n",
            "Epoch: 4900/6000 Train loss: 0.764900 Test acc: 0.761170 Test accp: 0.806400 Test accn: 0.746324\n",
            "Epoch: 4950/6000 Train loss: 0.764900 Test acc: 0.761566 Test accp: 0.804800 Test accn: 0.747374\n",
            "Epoch: 5000/6000 Train loss: 0.764636 Test acc: 0.761170 Test accp: 0.804800 Test accn: 0.746849\n",
            "Epoch: 5050/6000 Train loss: 0.764768 Test acc: 0.761961 Test accp: 0.806400 Test accn: 0.747374\n",
            "Epoch: 5100/6000 Train loss: 0.764768 Test acc: 0.761566 Test accp: 0.806400 Test accn: 0.746849\n",
            "Epoch: 5150/6000 Train loss: 0.764900 Test acc: 0.760775 Test accp: 0.804800 Test accn: 0.746324\n",
            "Epoch: 5200/6000 Train loss: 0.764636 Test acc: 0.760380 Test accp: 0.803200 Test accn: 0.746324\n",
            "Epoch: 5250/6000 Train loss: 0.764900 Test acc: 0.759984 Test accp: 0.801600 Test accn: 0.746324\n",
            "Epoch: 5300/6000 Train loss: 0.764504 Test acc: 0.759984 Test accp: 0.801600 Test accn: 0.746324\n",
            "Epoch: 5350/6000 Train loss: 0.764504 Test acc: 0.760380 Test accp: 0.801600 Test accn: 0.746849\n",
            "Epoch: 5400/6000 Train loss: 0.764768 Test acc: 0.760380 Test accp: 0.801600 Test accn: 0.746849\n",
            "Epoch: 5450/6000 Train loss: 0.764900 Test acc: 0.760380 Test accp: 0.801600 Test accn: 0.746849\n",
            "Epoch: 5500/6000 Train loss: 0.764900 Test acc: 0.760775 Test accp: 0.801600 Test accn: 0.747374\n",
            "Epoch: 5550/6000 Train loss: 0.765032 Test acc: 0.760775 Test accp: 0.801600 Test accn: 0.747374\n",
            "Epoch: 5600/6000 Train loss: 0.764900 Test acc: 0.760775 Test accp: 0.801600 Test accn: 0.747374\n",
            "Epoch: 5650/6000 Train loss: 0.765295 Test acc: 0.760380 Test accp: 0.801600 Test accn: 0.746849\n",
            "Epoch: 5700/6000 Train loss: 0.764900 Test acc: 0.760380 Test accp: 0.801600 Test accn: 0.746849\n",
            "Epoch: 5750/6000 Train loss: 0.765163 Test acc: 0.760775 Test accp: 0.801600 Test accn: 0.747374\n",
            "Epoch: 5800/6000 Train loss: 0.765295 Test acc: 0.760775 Test accp: 0.801600 Test accn: 0.747374\n",
            "Epoch: 5850/6000 Train loss: 0.765032 Test acc: 0.760775 Test accp: 0.801600 Test accn: 0.747374\n",
            "Epoch: 5900/6000 Train loss: 0.765032 Test acc: 0.760775 Test accp: 0.801600 Test accn: 0.747374\n",
            "Epoch: 5950/6000 Train loss: 0.764900 Test acc: 0.760775 Test accp: 0.801600 Test accn: 0.747374\n"
          ],
          "name": "stdout"
        }
      ]
    },
    {
      "cell_type": "code",
      "metadata": {
        "id": "Ruf7uGmJEqUq"
      },
      "source": [
        "def ROC(T):\n",
        "  \n",
        "  cost = tf.reduce_mean(tf.nn.weighted_cross_entropy_with_logits(targets=labels_,logits=logits,pos_weight=T))\n",
        "  optimizer = tf.train.AdamOptimizer(learning_rate).minimize(cost,global_step=global_step)\n",
        "  with tf.Session() as sess:\n",
        "    sess.run(tf.global_variables_initializer())\n",
        "    \n",
        "   \n",
        "    # Loop over epochs\n",
        "    for e in range(epochs):\n",
        "        \n",
        "     \n",
        "            train,_,_,_=sess.run([accuracy, optimizer,learning_rate,global_step], feed_dict={inputs_ :  X_tr, labels_: lab_tr})\n",
        "                \n",
        "           \n",
        "                \n",
        "              \n",
        "    acp,acn,acctest=sess.run([accp,accn,accuracy], feed_dict={inputs_ : X_vld, labels_: lab_vld})\n",
        "  return [acp,acn]\n"
      ],
      "execution_count": null,
      "outputs": []
    },
    {
      "cell_type": "code",
      "metadata": {
        "id": "Z5aumj_0DSY8"
      },
      "source": [
        "h_test_list=[]# POSITIVE ACCUARACY\n",
        "n_test_list=[]#NEGTIVE ACCURACY\n",
        "\n",
        "for i in range(10):\n",
        "  T=84-8*i\n",
        "  acp,acn=ROC(T)\n",
        "  h_test_list.append(acp)\n",
        "  n_test_list.append(acn)\n",
        "  \n",
        "  \n",
        "for i in range(25):\n",
        "  T=4-0.1*i#   tune T for weigheed loss function in NN\n",
        "  acp,acn=ROC(T)\n",
        "  h_test_list.append(acp)\n",
        "  n_test_list.append(acn)\n",
        "\n"
      ],
      "execution_count": null,
      "outputs": []
    },
    {
      "cell_type": "code",
      "metadata": {
        "id": "fAlrkFI0kpVd"
      },
      "source": [
        "for i in range(15):\n",
        "  T=1.5-0.1*i\n",
        "  acp,acn=ROC(T)\n",
        "  h_test_list.append(acp)\n",
        "  n_test_list.append(acn)"
      ],
      "execution_count": null,
      "outputs": []
    },
    {
      "cell_type": "code",
      "metadata": {
        "id": "fPMaboDWLGsp",
        "colab": {
          "base_uri": "https://localhost:8080/",
          "height": 284
        },
        "outputId": "4d0f8aa4-7021-47da-9e12-900a327ec837"
      },
      "source": [
        "plt.figure()\n",
        "plt.xlim((0, 1))\n",
        "\n",
        "plt.ylim((0, 1))\n",
        "plt.plot(n_test_list[0:50],  h_test_list[0:50])                    \n",
        "plt.scatter(h_test_list[0:50], n_test_list[0:50], marker='x')\n",
        "plt.ylabel('posive_acc')\n",
        "plt.xlabel('negtive_acc')\n",
        "\n",
        "plt.show()\n",
        "#roc plot"
      ],
      "execution_count": null,
      "outputs": [
        {
          "output_type": "display_data",
          "data": {
            "image/png": "[encoded data removed]",
            "text/plain": [
              "<Figure size 432x288 with 1 Axes>"
            ]
          },
          "metadata": {
            "tags": []
          }
        }
      ]
    },
    {
      "cell_type": "code",
      "metadata": {
        "id": "30tqiWDfGKZp",
        "colab": {
          "base_uri": "https://localhost:8080/",
          "height": 34
        },
        "outputId": "32e0a4f8-fb2c-4f20-d285-ba3aa1e36638"
      },
      "source": [
        "plt.savefig('fig_cat.png')"
      ],
      "execution_count": null,
      "outputs": [
        {
          "output_type": "display_data",
          "data": {
            "text/plain": [
              "<Figure size 432x288 with 0 Axes>"
            ]
          },
          "metadata": {
            "tags": []
          }
        }
      ]
    },
    {
      "cell_type": "code",
      "metadata": {
        "id": "9BzKKSUWp9rC"
      },
      "source": [
        "with tf.Session() as sess:\n",
        "    sess.run(tf.global_variables_initializer())\n",
        "    \n",
        "   \n",
        "    # Loop over epochs\n",
        "    for e in range(epochs):\n",
        "        \n",
        "        # Loop over batches\n",
        "        \n",
        "           \n",
        "            #loss, _  =sess.run([cost, optimizer], feed_dict={inputs_ : X_train, labels_: label, feature_: feature, tf_is_training: True})\n",
        "            train,_,_,_=sess.run([accuracy, optimizer,learning_rate,global_step], feed_dict={inputs_ :  X_tr, labels_: lab_tr})\n",
        "                \n",
        "            #, feature_:featuretrain\n",
        "            # Print at each 5 iters\n",
        "            \n",
        "                \n",
        "                #acc=sess.run(accuracy, feed_dict={inputs_ : X_train, labels_: label, feature_: feature, tf_is_training: False})\n",
        "    acp,acn,acctest=sess.run([accp,accn,accuracy], feed_dict={inputs_ : X_vld, labels_: lab_vld})"
      ],
      "execution_count": null,
      "outputs": []
    },
    {
      "cell_type": "code",
      "metadata": {
        "id": "FeNgKn_CHLOY"
      },
      "source": [
        "ACP,ACN=ROC(4)"
      ],
      "execution_count": null,
      "outputs": []
    },
    {
      "cell_type": "code",
      "metadata": {
        "id": "IiWfcNvwH2ZP",
        "colab": {
          "base_uri": "https://localhost:8080/",
          "height": 51
        },
        "outputId": "01da9a50-3fad-4432-e5d9-8ff888317c83"
      },
      "source": [
        "print(ACP)\n",
        "print(ACN)"
      ],
      "execution_count": null,
      "outputs": [
        {
          "output_type": "stream",
          "text": [
            "0.9952\n",
            "0.16228992\n"
          ],
          "name": "stdout"
        }
      ]
    },
    {
      "cell_type": "code",
      "metadata": {
        "id": "rKuoBrTDII0G"
      },
      "source": [
        "h_test_list=[]\n",
        "h_test_list.append(ACP)"
      ],
      "execution_count": null,
      "outputs": []
    }
  ]
}